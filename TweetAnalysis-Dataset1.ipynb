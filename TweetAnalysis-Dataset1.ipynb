{
 "cells": [
  {
   "cell_type": "code",
   "execution_count": 2,
   "metadata": {},
   "outputs": [
    {
     "data": {
      "text/html": [
       "<div>\n",
       "<style scoped>\n",
       "    .dataframe tbody tr th:only-of-type {\n",
       "        vertical-align: middle;\n",
       "    }\n",
       "\n",
       "    .dataframe tbody tr th {\n",
       "        vertical-align: top;\n",
       "    }\n",
       "\n",
       "    .dataframe thead th {\n",
       "        text-align: right;\n",
       "    }\n",
       "</style>\n",
       "<table border=\"1\" class=\"dataframe\">\n",
       "  <thead>\n",
       "    <tr style=\"text-align: right;\">\n",
       "      <th></th>\n",
       "      <th>Party</th>\n",
       "      <th>Handle</th>\n",
       "      <th>Tweet</th>\n",
       "    </tr>\n",
       "  </thead>\n",
       "  <tbody>\n",
       "    <tr>\n",
       "      <th>0</th>\n",
       "      <td>Democrat</td>\n",
       "      <td>RepDarrenSoto</td>\n",
       "      <td>Today, Senate Dems vote to #SaveTheInternet. P...</td>\n",
       "    </tr>\n",
       "    <tr>\n",
       "      <th>1</th>\n",
       "      <td>Democrat</td>\n",
       "      <td>RepDarrenSoto</td>\n",
       "      <td>RT @WinterHavenSun: Winter Haven resident / Al...</td>\n",
       "    </tr>\n",
       "    <tr>\n",
       "      <th>2</th>\n",
       "      <td>Democrat</td>\n",
       "      <td>RepDarrenSoto</td>\n",
       "      <td>RT @NBCLatino: .@RepDarrenSoto noted that Hurr...</td>\n",
       "    </tr>\n",
       "    <tr>\n",
       "      <th>3</th>\n",
       "      <td>Democrat</td>\n",
       "      <td>RepDarrenSoto</td>\n",
       "      <td>RT @NALCABPolicy: Meeting with @RepDarrenSoto ...</td>\n",
       "    </tr>\n",
       "    <tr>\n",
       "      <th>4</th>\n",
       "      <td>Democrat</td>\n",
       "      <td>RepDarrenSoto</td>\n",
       "      <td>RT @Vegalteno: Hurricane season starts on June...</td>\n",
       "    </tr>\n",
       "  </tbody>\n",
       "</table>\n",
       "</div>"
      ],
      "text/plain": [
       "      Party         Handle                                              Tweet\n",
       "0  Democrat  RepDarrenSoto  Today, Senate Dems vote to #SaveTheInternet. P...\n",
       "1  Democrat  RepDarrenSoto  RT @WinterHavenSun: Winter Haven resident / Al...\n",
       "2  Democrat  RepDarrenSoto  RT @NBCLatino: .@RepDarrenSoto noted that Hurr...\n",
       "3  Democrat  RepDarrenSoto  RT @NALCABPolicy: Meeting with @RepDarrenSoto ...\n",
       "4  Democrat  RepDarrenSoto  RT @Vegalteno: Hurricane season starts on June..."
      ]
     },
     "execution_count": 2,
     "metadata": {},
     "output_type": "execute_result"
    }
   ],
   "source": [
    "import pandas as pd\n",
    "import matplotlib.pyplot as plt\n",
    "import numpy as np\n",
    "import itertools\n",
    "\n",
    "df = pd.read_csv(\"ExtractedTweets.csv\")\n",
    "df.head()"
   ]
  },
  {
   "cell_type": "code",
   "execution_count": 3,
   "metadata": {},
   "outputs": [
    {
     "name": "stdout",
     "output_type": "stream",
     "text": [
      "<class 'pandas.core.frame.DataFrame'>\n",
      "RangeIndex: 86460 entries, 0 to 86459\n",
      "Data columns (total 3 columns):\n",
      " #   Column  Non-Null Count  Dtype \n",
      "---  ------  --------------  ----- \n",
      " 0   Party   86460 non-null  object\n",
      " 1   Handle  86460 non-null  object\n",
      " 2   Tweet   86460 non-null  object\n",
      "dtypes: object(3)\n",
      "memory usage: 2.0+ MB\n"
     ]
    }
   ],
   "source": [
    "df.info()"
   ]
  },
  {
   "cell_type": "code",
   "execution_count": 4,
   "metadata": {},
   "outputs": [
    {
     "data": {
      "text/html": [
       "<div>\n",
       "<style scoped>\n",
       "    .dataframe tbody tr th:only-of-type {\n",
       "        vertical-align: middle;\n",
       "    }\n",
       "\n",
       "    .dataframe tbody tr th {\n",
       "        vertical-align: top;\n",
       "    }\n",
       "\n",
       "    .dataframe thead th {\n",
       "        text-align: right;\n",
       "    }\n",
       "</style>\n",
       "<table border=\"1\" class=\"dataframe\">\n",
       "  <thead>\n",
       "    <tr style=\"text-align: right;\">\n",
       "      <th></th>\n",
       "      <th>Party</th>\n",
       "      <th>Handle</th>\n",
       "      <th>Tweet</th>\n",
       "    </tr>\n",
       "  </thead>\n",
       "  <tbody>\n",
       "    <tr>\n",
       "      <th>count</th>\n",
       "      <td>86460</td>\n",
       "      <td>86460</td>\n",
       "      <td>86460</td>\n",
       "    </tr>\n",
       "    <tr>\n",
       "      <th>unique</th>\n",
       "      <td>2</td>\n",
       "      <td>433</td>\n",
       "      <td>84502</td>\n",
       "    </tr>\n",
       "    <tr>\n",
       "      <th>top</th>\n",
       "      <td>Republican</td>\n",
       "      <td>RepAnnWagner</td>\n",
       "      <td>RT @RepDanKildee: Four years later, Flint fami...</td>\n",
       "    </tr>\n",
       "    <tr>\n",
       "      <th>freq</th>\n",
       "      <td>44392</td>\n",
       "      <td>200</td>\n",
       "      <td>31</td>\n",
       "    </tr>\n",
       "  </tbody>\n",
       "</table>\n",
       "</div>"
      ],
      "text/plain": [
       "             Party        Handle  \\\n",
       "count        86460         86460   \n",
       "unique           2           433   \n",
       "top     Republican  RepAnnWagner   \n",
       "freq         44392           200   \n",
       "\n",
       "                                                    Tweet  \n",
       "count                                               86460  \n",
       "unique                                              84502  \n",
       "top     RT @RepDanKildee: Four years later, Flint fami...  \n",
       "freq                                                   31  "
      ]
     },
     "execution_count": 4,
     "metadata": {},
     "output_type": "execute_result"
    }
   ],
   "source": [
    "df.describe()"
   ]
  },
  {
   "cell_type": "code",
   "execution_count": 5,
   "metadata": {},
   "outputs": [],
   "source": [
    "rep = len(df[df['Party'] == 'Democrat'])\n",
    "\n",
    "dem = len(df[df['Party'] == 'Republican'])"
   ]
  },
  {
   "cell_type": "code",
   "execution_count": 6,
   "metadata": {},
   "outputs": [
    {
     "data": {
      "image/png": "[encoded data removed]",
      "text/plain": [
       "<Figure size 432x288 with 1 Axes>"
      ]
     },
     "metadata": {},
     "output_type": "display_data"
    }
   ],
   "source": [
    "rep_dem_counts = np.array([rep,dem])\n",
    "labels = [\"Republican\", \"Democrat\"]\n",
    "colors = [\"red\", \"blue\"]\n",
    "plt.pie(rep_dem_counts, labels=labels, autopct='%1.0f%%', colors=colors)\n",
    "plt.show()"
   ]
  },
  {
   "cell_type": "code",
   "execution_count": 7,
   "metadata": {},
   "outputs": [],
   "source": [
    "# fig, ax = plt.subplots(figsize=(15,8))\n",
    "\n",
    "\n",
    "# plt.hist(unique_users[0:10], density=True, color=\"red\", edgecolor='white')\n",
    "# plt.xticks(rotation='vertical')\n",
    "\n",
    "# plt.show()"
   ]
  },
  {
   "cell_type": "code",
   "execution_count": 8,
   "metadata": {},
   "outputs": [
    {
     "data": {
      "text/html": [
       "<div>\n",
       "<style scoped>\n",
       "    .dataframe tbody tr th:only-of-type {\n",
       "        vertical-align: middle;\n",
       "    }\n",
       "\n",
       "    .dataframe tbody tr th {\n",
       "        vertical-align: top;\n",
       "    }\n",
       "\n",
       "    .dataframe thead th {\n",
       "        text-align: right;\n",
       "    }\n",
       "</style>\n",
       "<table border=\"1\" class=\"dataframe\">\n",
       "  <thead>\n",
       "    <tr style=\"text-align: right;\">\n",
       "      <th></th>\n",
       "      <th>Handle</th>\n",
       "    </tr>\n",
       "  </thead>\n",
       "  <tbody>\n",
       "    <tr>\n",
       "      <th>0</th>\n",
       "      <td>RepDarrenSoto</td>\n",
       "    </tr>\n",
       "    <tr>\n",
       "      <th>1</th>\n",
       "      <td>RepJackyRosen</td>\n",
       "    </tr>\n",
       "    <tr>\n",
       "      <th>2</th>\n",
       "      <td>RepAlLawsonJr</td>\n",
       "    </tr>\n",
       "    <tr>\n",
       "      <th>3</th>\n",
       "      <td>RepEspaillat</td>\n",
       "    </tr>\n",
       "    <tr>\n",
       "      <th>4</th>\n",
       "      <td>RepBRochester</td>\n",
       "    </tr>\n",
       "  </tbody>\n",
       "</table>\n",
       "</div>"
      ],
      "text/plain": [
       "          Handle\n",
       "0  RepDarrenSoto\n",
       "1  RepJackyRosen\n",
       "2  RepAlLawsonJr\n",
       "3   RepEspaillat\n",
       "4  RepBRochester"
      ]
     },
     "execution_count": 8,
     "metadata": {},
     "output_type": "execute_result"
    }
   ],
   "source": [
    "df2 = pd.DataFrame({'Handle':df.Handle.unique()})\n",
    "df2.head()"
   ]
  },
  {
   "cell_type": "code",
   "execution_count": 9,
   "metadata": {},
   "outputs": [],
   "source": [
    "df2['Tweets'] = [list(df['Tweet'].loc[df['Handle'] == x['Handle']]) \n",
    "    for _, x in df2.iterrows()]"
   ]
  },
  {
   "cell_type": "code",
   "execution_count": 10,
   "metadata": {},
   "outputs": [
    {
     "data": {
      "text/html": [
       "<div>\n",
       "<style scoped>\n",
       "    .dataframe tbody tr th:only-of-type {\n",
       "        vertical-align: middle;\n",
       "    }\n",
       "\n",
       "    .dataframe tbody tr th {\n",
       "        vertical-align: top;\n",
       "    }\n",
       "\n",
       "    .dataframe thead th {\n",
       "        text-align: right;\n",
       "    }\n",
       "</style>\n",
       "<table border=\"1\" class=\"dataframe\">\n",
       "  <thead>\n",
       "    <tr style=\"text-align: right;\">\n",
       "      <th></th>\n",
       "      <th>Handle</th>\n",
       "      <th>Tweets</th>\n",
       "    </tr>\n",
       "  </thead>\n",
       "  <tbody>\n",
       "    <tr>\n",
       "      <th>0</th>\n",
       "      <td>RepDarrenSoto</td>\n",
       "      <td>[Today, Senate Dems vote to #SaveTheInternet. ...</td>\n",
       "    </tr>\n",
       "    <tr>\n",
       "      <th>1</th>\n",
       "      <td>RepJackyRosen</td>\n",
       "      <td>[Congrats to this month’s #NevadaWomanInSTEM, ...</td>\n",
       "    </tr>\n",
       "    <tr>\n",
       "      <th>2</th>\n",
       "      <td>RepAlLawsonJr</td>\n",
       "      <td>[@gmitter @ActionNewsJax \\n@wjxt4 @FCN2go\\nhtt...</td>\n",
       "    </tr>\n",
       "    <tr>\n",
       "      <th>3</th>\n",
       "      <td>RepEspaillat</td>\n",
       "      <td>[@RepEspaillat to host 2018 National Summit of...</td>\n",
       "    </tr>\n",
       "    <tr>\n",
       "      <th>4</th>\n",
       "      <td>RepBRochester</td>\n",
       "      <td>[Last night, I had the opportunity to witness ...</td>\n",
       "    </tr>\n",
       "    <tr>\n",
       "      <th>...</th>\n",
       "      <td>...</td>\n",
       "      <td>...</td>\n",
       "    </tr>\n",
       "    <tr>\n",
       "      <th>95</th>\n",
       "      <td>RepSarbanes</td>\n",
       "      <td>[.@realDonaldTrump, what about all of your cab...</td>\n",
       "    </tr>\n",
       "    <tr>\n",
       "      <th>96</th>\n",
       "      <td>SupJaniceHahn</td>\n",
       "      <td>[I joined residents and elected officials at t...</td>\n",
       "    </tr>\n",
       "    <tr>\n",
       "      <th>97</th>\n",
       "      <td>RepLindaSanchez</td>\n",
       "      <td>[No parent wants their child to be hungry. Whe...</td>\n",
       "    </tr>\n",
       "    <tr>\n",
       "      <th>98</th>\n",
       "      <td>RepStephenLynch</td>\n",
       "      <td>[Excellent presentation on Town finances at No...</td>\n",
       "    </tr>\n",
       "    <tr>\n",
       "      <th>99</th>\n",
       "      <td>Call_Me_Dutch</td>\n",
       "      <td>[#TeamDutch's Ashley celebrated long history o...</td>\n",
       "    </tr>\n",
       "  </tbody>\n",
       "</table>\n",
       "<p>100 rows × 2 columns</p>\n",
       "</div>"
      ],
      "text/plain": [
       "             Handle                                             Tweets\n",
       "0     RepDarrenSoto  [Today, Senate Dems vote to #SaveTheInternet. ...\n",
       "1     RepJackyRosen  [Congrats to this month’s #NevadaWomanInSTEM, ...\n",
       "2     RepAlLawsonJr  [@gmitter @ActionNewsJax \\n@wjxt4 @FCN2go\\nhtt...\n",
       "3      RepEspaillat  [@RepEspaillat to host 2018 National Summit of...\n",
       "4     RepBRochester  [Last night, I had the opportunity to witness ...\n",
       "..              ...                                                ...\n",
       "95      RepSarbanes  [.@realDonaldTrump, what about all of your cab...\n",
       "96    SupJaniceHahn  [I joined residents and elected officials at t...\n",
       "97  RepLindaSanchez  [No parent wants their child to be hungry. Whe...\n",
       "98  RepStephenLynch  [Excellent presentation on Town finances at No...\n",
       "99    Call_Me_Dutch  [#TeamDutch's Ashley celebrated long history o...\n",
       "\n",
       "[100 rows x 2 columns]"
      ]
     },
     "execution_count": 10,
     "metadata": {},
     "output_type": "execute_result"
    }
   ],
   "source": [
    "df2.head(100)"
   ]
  },
  {
   "cell_type": "code",
   "execution_count": 11,
   "metadata": {},
   "outputs": [
    {
     "data": {
      "text/html": [
       "<div>\n",
       "<style scoped>\n",
       "    .dataframe tbody tr th:only-of-type {\n",
       "        vertical-align: middle;\n",
       "    }\n",
       "\n",
       "    .dataframe tbody tr th {\n",
       "        vertical-align: top;\n",
       "    }\n",
       "\n",
       "    .dataframe thead th {\n",
       "        text-align: right;\n",
       "    }\n",
       "</style>\n",
       "<table border=\"1\" class=\"dataframe\">\n",
       "  <thead>\n",
       "    <tr style=\"text-align: right;\">\n",
       "      <th></th>\n",
       "      <th>Handle</th>\n",
       "      <th>Tweets</th>\n",
       "      <th>Party</th>\n",
       "    </tr>\n",
       "  </thead>\n",
       "  <tbody>\n",
       "    <tr>\n",
       "      <th>0</th>\n",
       "      <td>RepDarrenSoto</td>\n",
       "      <td>[Today, Senate Dems vote to #SaveTheInternet. ...</td>\n",
       "      <td>Democrat</td>\n",
       "    </tr>\n",
       "    <tr>\n",
       "      <th>1</th>\n",
       "      <td>RepJackyRosen</td>\n",
       "      <td>[Congrats to this month’s #NevadaWomanInSTEM, ...</td>\n",
       "      <td>Democrat</td>\n",
       "    </tr>\n",
       "    <tr>\n",
       "      <th>2</th>\n",
       "      <td>RepAlLawsonJr</td>\n",
       "      <td>[@gmitter @ActionNewsJax \\n@wjxt4 @FCN2go\\nhtt...</td>\n",
       "      <td>Democrat</td>\n",
       "    </tr>\n",
       "    <tr>\n",
       "      <th>3</th>\n",
       "      <td>RepEspaillat</td>\n",
       "      <td>[@RepEspaillat to host 2018 National Summit of...</td>\n",
       "      <td>Democrat</td>\n",
       "    </tr>\n",
       "    <tr>\n",
       "      <th>4</th>\n",
       "      <td>RepBRochester</td>\n",
       "      <td>[Last night, I had the opportunity to witness ...</td>\n",
       "      <td>Democrat</td>\n",
       "    </tr>\n",
       "    <tr>\n",
       "      <th>...</th>\n",
       "      <td>...</td>\n",
       "      <td>...</td>\n",
       "      <td>...</td>\n",
       "    </tr>\n",
       "    <tr>\n",
       "      <th>95</th>\n",
       "      <td>RepSarbanes</td>\n",
       "      <td>[.@realDonaldTrump, what about all of your cab...</td>\n",
       "      <td>Democrat</td>\n",
       "    </tr>\n",
       "    <tr>\n",
       "      <th>96</th>\n",
       "      <td>SupJaniceHahn</td>\n",
       "      <td>[I joined residents and elected officials at t...</td>\n",
       "      <td>Democrat</td>\n",
       "    </tr>\n",
       "    <tr>\n",
       "      <th>97</th>\n",
       "      <td>RepLindaSanchez</td>\n",
       "      <td>[No parent wants their child to be hungry. Whe...</td>\n",
       "      <td>Democrat</td>\n",
       "    </tr>\n",
       "    <tr>\n",
       "      <th>98</th>\n",
       "      <td>RepStephenLynch</td>\n",
       "      <td>[Excellent presentation on Town finances at No...</td>\n",
       "      <td>Democrat</td>\n",
       "    </tr>\n",
       "    <tr>\n",
       "      <th>99</th>\n",
       "      <td>Call_Me_Dutch</td>\n",
       "      <td>[#TeamDutch's Ashley celebrated long history o...</td>\n",
       "      <td>Democrat</td>\n",
       "    </tr>\n",
       "  </tbody>\n",
       "</table>\n",
       "<p>100 rows × 3 columns</p>\n",
       "</div>"
      ],
      "text/plain": [
       "             Handle                                             Tweets  \\\n",
       "0     RepDarrenSoto  [Today, Senate Dems vote to #SaveTheInternet. ...   \n",
       "1     RepJackyRosen  [Congrats to this month’s #NevadaWomanInSTEM, ...   \n",
       "2     RepAlLawsonJr  [@gmitter @ActionNewsJax \\n@wjxt4 @FCN2go\\nhtt...   \n",
       "3      RepEspaillat  [@RepEspaillat to host 2018 National Summit of...   \n",
       "4     RepBRochester  [Last night, I had the opportunity to witness ...   \n",
       "..              ...                                                ...   \n",
       "95      RepSarbanes  [.@realDonaldTrump, what about all of your cab...   \n",
       "96    SupJaniceHahn  [I joined residents and elected officials at t...   \n",
       "97  RepLindaSanchez  [No parent wants their child to be hungry. Whe...   \n",
       "98  RepStephenLynch  [Excellent presentation on Town finances at No...   \n",
       "99    Call_Me_Dutch  [#TeamDutch's Ashley celebrated long history o...   \n",
       "\n",
       "       Party  \n",
       "0   Democrat  \n",
       "1   Democrat  \n",
       "2   Democrat  \n",
       "3   Democrat  \n",
       "4   Democrat  \n",
       "..       ...  \n",
       "95  Democrat  \n",
       "96  Democrat  \n",
       "97  Democrat  \n",
       "98  Democrat  \n",
       "99  Democrat  \n",
       "\n",
       "[100 rows x 3 columns]"
      ]
     },
     "execution_count": 11,
     "metadata": {},
     "output_type": "execute_result"
    }
   ],
   "source": [
    "df2['Party'] = [list(df['Party'].loc[df['Handle'] == x['Handle']])[0] \n",
    "    for _, x in df2.iterrows()]\n",
    "df2.head(100)"
   ]
  },
  {
   "cell_type": "code",
   "execution_count": 12,
   "metadata": {},
   "outputs": [
    {
     "name": "stdout",
     "output_type": "stream",
     "text": [
      "0      [Today, Senate Dems vote to #SaveTheInternet. ...\n",
      "1      [Congrats to this month’s #NevadaWomanInSTEM, ...\n",
      "2      [@gmitter @ActionNewsJax \\n@wjxt4 @FCN2go\\nhtt...\n",
      "3      [@RepEspaillat to host 2018 National Summit of...\n",
      "4      [Last night, I had the opportunity to witness ...\n",
      "                             ...                        \n",
      "195    [The ability to peacefully advocate for change...\n",
      "196    [👍 https://t.co/LCb9Jw5i7R, RT @hansilowang: T...\n",
      "197    [RT @RepJohnLarson: The GOP tax law has given ...\n",
      "198    [RT @Azi: Cuomo &amp; Rangel! https://t.co/WVH...\n",
      "199    [The future won’t wait. Neither can we. It’s #...\n",
      "Name: Tweets, Length: 200, dtype: object\n"
     ]
    }
   ],
   "source": [
    "print(df2['Tweets'].loc[df['Handle'] == 'RepDarrenSoto'])\n",
    "#each Handle has 200 associated tweets with it..."
   ]
  },
  {
   "cell_type": "code",
   "execution_count": 13,
   "metadata": {},
   "outputs": [
    {
     "data": {
      "text/html": [
       "<div>\n",
       "<style scoped>\n",
       "    .dataframe tbody tr th:only-of-type {\n",
       "        vertical-align: middle;\n",
       "    }\n",
       "\n",
       "    .dataframe tbody tr th {\n",
       "        vertical-align: top;\n",
       "    }\n",
       "\n",
       "    .dataframe thead th {\n",
       "        text-align: right;\n",
       "    }\n",
       "</style>\n",
       "<table border=\"1\" class=\"dataframe\">\n",
       "  <thead>\n",
       "    <tr style=\"text-align: right;\">\n",
       "      <th></th>\n",
       "      <th>Handle</th>\n",
       "      <th>Tweets</th>\n",
       "      <th>Party</th>\n",
       "    </tr>\n",
       "  </thead>\n",
       "  <tbody>\n",
       "    <tr>\n",
       "      <th>count</th>\n",
       "      <td>433</td>\n",
       "      <td>433</td>\n",
       "      <td>433</td>\n",
       "    </tr>\n",
       "    <tr>\n",
       "      <th>unique</th>\n",
       "      <td>433</td>\n",
       "      <td>433</td>\n",
       "      <td>2</td>\n",
       "    </tr>\n",
       "    <tr>\n",
       "      <th>top</th>\n",
       "      <td>RepSires</td>\n",
       "      <td>[RT @realDonaldTrump: House votes today on Cho...</td>\n",
       "      <td>Republican</td>\n",
       "    </tr>\n",
       "    <tr>\n",
       "      <th>freq</th>\n",
       "      <td>1</td>\n",
       "      <td>1</td>\n",
       "      <td>222</td>\n",
       "    </tr>\n",
       "  </tbody>\n",
       "</table>\n",
       "</div>"
      ],
      "text/plain": [
       "          Handle                                             Tweets  \\\n",
       "count        433                                                433   \n",
       "unique       433                                                433   \n",
       "top     RepSires  [RT @realDonaldTrump: House votes today on Cho...   \n",
       "freq           1                                                  1   \n",
       "\n",
       "             Party  \n",
       "count          433  \n",
       "unique           2  \n",
       "top     Republican  \n",
       "freq           222  "
      ]
     },
     "execution_count": 13,
     "metadata": {},
     "output_type": "execute_result"
    }
   ],
   "source": [
    "df2.describe()"
   ]
  },
  {
   "cell_type": "code",
   "execution_count": 14,
   "metadata": {},
   "outputs": [
    {
     "data": {
      "text/plain": [
       "'0        Democrat\\n1        Democrat\\n2        Democrat\\n3        Democrat\\n4        Democrat\\n5        Democrat\\n6        Democrat\\n7        Democrat\\n8        Democrat\\n9        Democrat\\n10       Democrat\\n11       Democrat\\n12       Democrat\\n13       Democrat\\n14       Democrat\\n15       Democrat\\n16       Democrat\\n17       Democrat\\n18       Democrat\\n19       Democrat\\n20       Democrat\\n21       Democrat\\n22       Democrat\\n23       Democrat\\n24       Democrat\\n25       Democrat\\n26       Democrat\\n27       Democrat\\n28       Democrat\\n29       Democrat\\n30       Democrat\\n31       Democrat\\n32       Democrat\\n33       Democrat\\n34       Democrat\\n35       Democrat\\n36       Democrat\\n37       Democrat\\n38       Democrat\\n39       Democrat\\n40       Democrat\\n41       Democrat\\n42       Democrat\\n43       Democrat\\n44       Democrat\\n45       Democrat\\n46       Democrat\\n47       Democrat\\n48       Democrat\\n49       Democrat\\n50       Democrat\\n51       Democrat\\n52       Democrat\\n53       Democrat\\n54       Democrat\\n55       Democrat\\n56       Democrat\\n57       Democrat\\n58       Democrat\\n59       Democrat\\n60       Democrat\\n61       Democrat\\n62       Democrat\\n63       Democrat\\n64       Democrat\\n65       Democrat\\n66       Democrat\\n67       Democrat\\n68       Democrat\\n69       Democrat\\n70       Democrat\\n71       Democrat\\n72       Democrat\\n73       Democrat\\n74       Democrat\\n75       Democrat\\n76       Democrat\\n77       Democrat\\n78       Democrat\\n79       Democrat\\n80       Democrat\\n81       Democrat\\n82       Democrat\\n83       Democrat\\n84       Democrat\\n85       Democrat\\n86       Democrat\\n87       Democrat\\n88       Democrat\\n89       Democrat\\n90       Democrat\\n91       Democrat\\n92       Democrat\\n93       Democrat\\n94       Democrat\\n95       Democrat\\n96       Democrat\\n97       Democrat\\n98       Democrat\\n99       Democrat\\n100      Democrat\\n101      Democrat\\n102      Democrat\\n103      Democrat\\n104      Democrat\\n105      Democrat\\n106      Democrat\\n107      Democrat\\n108      Democrat\\n109      Democrat\\n110      Democrat\\n111      Democrat\\n112      Democrat\\n113      Democrat\\n114      Democrat\\n115      Democrat\\n116      Democrat\\n117      Democrat\\n118      Democrat\\n119      Democrat\\n120      Democrat\\n121      Democrat\\n122      Democrat\\n123      Democrat\\n124      Democrat\\n125      Democrat\\n126      Democrat\\n127      Democrat\\n128      Democrat\\n129      Democrat\\n130      Democrat\\n131      Democrat\\n132      Democrat\\n133      Democrat\\n134      Democrat\\n135      Democrat\\n136      Democrat\\n137      Democrat\\n138      Democrat\\n139      Democrat\\n140      Democrat\\n141      Democrat\\n142      Democrat\\n143      Democrat\\n144      Democrat\\n145      Democrat\\n146      Democrat\\n147      Democrat\\n148      Democrat\\n149      Democrat\\n150      Democrat\\n151      Democrat\\n152      Democrat\\n153      Democrat\\n154      Democrat\\n155      Democrat\\n156      Democrat\\n157      Democrat\\n158      Democrat\\n159      Democrat\\n160      Democrat\\n161      Democrat\\n162      Democrat\\n163      Democrat\\n164      Democrat\\n165      Democrat\\n166      Democrat\\n167      Democrat\\n168      Democrat\\n169      Democrat\\n170      Democrat\\n171      Democrat\\n172      Democrat\\n173      Democrat\\n174      Democrat\\n175      Democrat\\n176      Democrat\\n177      Democrat\\n178      Democrat\\n179      Democrat\\n180      Democrat\\n181      Democrat\\n182      Democrat\\n183      Democrat\\n184      Democrat\\n185      Democrat\\n186      Democrat\\n187      Democrat\\n188      Democrat\\n189      Democrat\\n190      Democrat\\n191      Democrat\\n192      Democrat\\n193      Democrat\\n194      Democrat\\n195      Democrat\\n196      Democrat\\n197      Democrat\\n198      Democrat\\n199      Democrat\\n200      Democrat\\n201      Democrat\\n202      Democrat\\n203      Democrat\\n204      Democrat\\n205      Democrat\\n206      Democrat\\n207      Democrat\\n208      Democrat\\n209      Democrat\\n210      Democrat\\n211    Republican\\n212    Republican\\n213    Republican\\n214    Republican\\n215    Republican\\n216    Republican\\n217    Republican\\n218    Republican\\n219    Republican\\n220    Republican\\n221    Republican\\n222    Republican\\n223    Republican\\n224    Republican\\n225    Republican\\n226    Republican\\n227    Republican\\n228    Republican\\n229    Republican\\n230    Republican\\n231    Republican\\n232    Republican\\n233    Republican\\n234    Republican\\n235    Republican\\n236    Republican\\n237    Republican\\n238    Republican\\n239    Republican\\n240    Republican\\n241    Republican\\n242    Republican\\n243    Republican\\n244    Republican\\n245    Republican\\n246    Republican\\n247    Republican\\n248    Republican\\n249    Republican\\n250    Republican\\n251    Republican\\n252    Republican\\n253    Republican\\n254    Republican\\n255    Republican\\n256    Republican\\n257    Republican\\n258    Republican\\n259    Republican\\n260    Republican\\n261    Republican\\n262    Republican\\n263    Republican\\n264    Republican\\n265    Republican\\n266    Republican\\n267    Republican\\n268    Republican\\n269    Republican\\n270    Republican\\n271    Republican\\n272    Republican\\n273    Republican\\n274    Republican\\n275    Republican\\n276    Republican\\n277    Republican\\n278    Republican\\n279    Republican\\n280    Republican\\n281    Republican\\n282    Republican\\n283    Republican\\n284    Republican\\n285    Republican\\n286    Republican\\n287    Republican\\n288    Republican\\n289    Republican\\n290    Republican\\n291    Republican\\n292    Republican\\n293    Republican\\n294    Republican\\n295    Republican\\n296    Republican\\n297    Republican\\n298    Republican\\n299    Republican\\n300    Republican\\n301    Republican\\n302    Republican\\n303    Republican\\n304    Republican\\n305    Republican\\n306    Republican\\n307    Republican\\n308    Republican\\n309    Republican\\n310    Republican\\n311    Republican\\n312    Republican\\n313    Republican\\n314    Republican\\n315    Republican\\n316    Republican\\n317    Republican\\n318    Republican\\n319    Republican\\n320    Republican\\n321    Republican\\n322    Republican\\n323    Republican\\n324    Republican\\n325    Republican\\n326    Republican\\n327    Republican\\n328    Republican\\n329    Republican\\n330    Republican\\n331    Republican\\n332    Republican\\n333    Republican\\n334    Republican\\n335    Republican\\n336    Republican\\n337    Republican\\n338    Republican\\n339    Republican\\n340    Republican\\n341    Republican\\n342    Republican\\n343    Republican\\n344    Republican\\n345    Republican\\n346    Republican\\n347    Republican\\n348    Republican\\n349    Republican\\n350    Republican\\n351    Republican\\n352    Republican\\n353    Republican\\n354    Republican\\n355    Republican\\n356    Republican\\n357    Republican\\n358    Republican\\n359    Republican\\n360    Republican\\n361    Republican\\n362    Republican\\n363    Republican\\n364    Republican\\n365    Republican\\n366    Republican\\n367    Republican\\n368    Republican\\n369    Republican\\n370    Republican\\n371    Republican\\n372    Republican\\n373    Republican\\n374    Republican\\n375    Republican\\n376    Republican\\n377    Republican\\n378    Republican\\n379    Republican\\n380    Republican\\n381    Republican\\n382    Republican\\n383    Republican\\n384    Republican\\n385    Republican\\n386    Republican\\n387    Republican\\n388    Republican\\n389    Republican\\n390    Republican\\n391    Republican\\n392    Republican\\n393    Republican\\n394    Republican\\n395    Republican\\n396    Republican\\n397    Republican\\n398    Republican\\n399    Republican\\n400    Republican\\n401    Republican\\n402    Republican\\n403    Republican\\n404    Republican\\n405    Republican\\n406    Republican\\n407    Republican\\n408    Republican\\n409    Republican\\n410    Republican\\n411    Republican\\n412    Republican\\n413    Republican\\n414    Republican\\n415    Republican\\n416    Republican\\n417    Republican\\n418    Republican\\n419    Republican\\n420    Republican\\n421    Republican\\n422    Republican\\n423    Republican\\n424    Republican\\n425    Republican\\n426    Republican\\n427    Republican\\n428    Republican\\n429    Republican\\n430    Republican\\n431    Republican\\n432    Republican'"
      ]
     },
     "execution_count": 14,
     "metadata": {},
     "output_type": "execute_result"
    }
   ],
   "source": [
    "df2.Party.to_string()"
   ]
  },
  {
   "cell_type": "code",
   "execution_count": 15,
   "metadata": {},
   "outputs": [
    {
     "name": "stdout",
     "output_type": "stream",
     "text": [
      "211\n",
      "222\n"
     ]
    }
   ],
   "source": [
    "dem_tweets = np.array(df2['Tweets'].loc[df2['Party'] == 'Democrat'])\n",
    "rep_tweets = np.array(df2['Tweets'].loc[df2['Party'] == 'Republican'])\n",
    "\n",
    "print(len(dem_tweets))\n",
    "print(len(rep_tweets))"
   ]
  },
  {
   "cell_type": "code",
   "execution_count": 16,
   "metadata": {},
   "outputs": [],
   "source": [
    "dem_tweets_condensed = []\n",
    "\n",
    "for i in range(len(dem_tweets)):\n",
    "    dem_tweets_condensed.extend(dem_tweets[i])\n",
    "\n",
    "rep_tweets_condensed = []\n",
    "\n",
    "for i in range(len(rep_tweets)):\n",
    "    rep_tweets_condensed.extend(rep_tweets[i])\n",
    "    "
   ]
  },
  {
   "cell_type": "code",
   "execution_count": 17,
   "metadata": {},
   "outputs": [
    {
     "name": "stdout",
     "output_type": "stream",
     "text": [
      "Average length of democrat tweets:  131.28969763240468\n",
      "Average length of republican tweets:  128.68165435213552\n"
     ]
    }
   ],
   "source": [
    "avg_length_dem_tweets = 0\n",
    "for i in range(len(dem_tweets_condensed)):\n",
    "    avg_length_dem_tweets += len(dem_tweets_condensed[i])\n",
    "    \n",
    "avg_length_dem_tweets = avg_length_dem_tweets/len(dem_tweets_condensed)\n",
    "\n",
    "print(\"Average length of democrat tweets: \",avg_length_dem_tweets)\n",
    "    \n",
    "avg_length_rep_tweets = 0\n",
    "for i in range(len(rep_tweets_condensed)):\n",
    "    avg_length_rep_tweets += len(rep_tweets_condensed[i])\n",
    "    \n",
    "avg_length_rep_tweets = avg_length_rep_tweets/len(rep_tweets_condensed)\n",
    "\n",
    "print(\"Average length of republican tweets: \",avg_length_rep_tweets)\n",
    "\n"
   ]
  },
  {
   "cell_type": "code",
   "execution_count": 18,
   "metadata": {},
   "outputs": [
    {
     "data": {
      "image/png": "[encoded data removed]",
      "text/plain": [
       "<Figure size 432x288 with 1 Axes>"
      ]
     },
     "metadata": {
      "needs_background": "light"
     },
     "output_type": "display_data"
    }
   ],
   "source": [
    "height = [avg_length_dem_tweets, avg_length_rep_tweets]\n",
    "bars = ('Democrat', 'Republican')\n",
    "x_pos = np.arange(len(bars))\n",
    "\n",
    "# Create bars with different colors\n",
    "plt.bar(x_pos, height, color=['blue', 'red'])\n",
    "\n",
    "# Create names on the x-axis\n",
    "plt.xticks(x_pos, bars)\n",
    "\n",
    "plt.title('Average Length of Tweets Per Party')\n",
    "plt.xlabel('Party')\n",
    "plt.ylabel('Average Character Length of Tweets')  \n",
    "\n",
    "for i in range(len(bars)):\n",
    "    plt.text(i,height[i],height[i])   \n",
    "    \n",
    "# Show graph\n",
    "plt.show()"
   ]
  },
  {
   "cell_type": "code",
   "execution_count": 19,
   "metadata": {},
   "outputs": [],
   "source": [
    "#REP\n",
    "one_string_rep_tweets = \" \"\n",
    "for i in range(len(rep_tweets)):\n",
    "    for j in range(len(rep_tweets[i])):\n",
    "        one_string_rep_tweets += ''.join(rep_tweets[i][j])"
   ]
  },
  {
   "cell_type": "code",
   "execution_count": 20,
   "metadata": {},
   "outputs": [],
   "source": [
    "#DEM\n",
    "one_string_dem_tweets = \" \"\n",
    "for i in range(len(dem_tweets)):\n",
    "    for j in range(len(dem_tweets[i])):\n",
    "        one_string_dem_tweets += ''.join(dem_tweets[i][j])\n"
   ]
  },
  {
   "cell_type": "code",
   "execution_count": 21,
   "metadata": {},
   "outputs": [],
   "source": [
    "from nltk.corpus import stopwords\n",
    "from nltk.tokenize import word_tokenize\n",
    "\n",
    "r = one_string_rep_tweets\n",
    "\n",
    "stop_words = set(stopwords.words('english'))\n",
    "stop_words.add(\"I\")\n",
    "stop_words.add(\"The\")\n",
    "stop_words.add(\"I\")\n",
    "stop_words.add(\"We\")\n",
    "stop_words.add(\"https\")\n",
    "\n",
    "word_tokens_r = word_tokenize(r)\n",
    "\n",
    "filtered_sentence_r = [w for w in word_tokens_r if not w.lower() in stop_words]\n",
    "\n",
    "filtered_sentence_r = \" \"\n",
    "\n",
    "for w in word_tokens_r:\n",
    "    if w not in stop_words:\n",
    "        filtered_sentence_r += w\n",
    "        filtered_sentence_r += \" \"\n",
    "\n"
   ]
  },
  {
   "cell_type": "code",
   "execution_count": 22,
   "metadata": {},
   "outputs": [],
   "source": [
    "d = one_string_dem_tweets\n",
    "\n",
    "word_tokens_d = word_tokenize(d)\n",
    "\n",
    "filtered_sentence_d = [w for w in word_tokens_d if not w.lower() in stop_words]\n",
    "\n",
    "filtered_sentence_d = \" \"\n",
    "\n",
    "for w in word_tokens_d:\n",
    "    if w not in stop_words:\n",
    "        filtered_sentence_d += w\n",
    "        filtered_sentence_d += \" \"\n"
   ]
  },
  {
   "cell_type": "code",
   "execution_count": 23,
   "metadata": {},
   "outputs": [],
   "source": [
    "import re\n",
    "\n",
    "words_rep = [word for word in filtered_sentence_r.split() if word.isalpha()]\n",
    "result_rep = ' '.join(words_rep)\n",
    "\n",
    "words_dem = [word for word in filtered_sentence_d.split() if word.isalpha()]\n",
    "result_dem = ' '.join(words_dem) "
   ]
  },
  {
   "cell_type": "code",
   "execution_count": 24,
   "metadata": {},
   "outputs": [],
   "source": [
    "from collections import Counter\n",
    "\n",
    "def count_freq_words(dataset):\n",
    "    data_set = dataset\n",
    "\n",
    "    # split() returns list of all the words in the string\n",
    "    split_it = data_set.split()\n",
    "\n",
    "    # Pass the split_it list to instance of Counter class.\n",
    "    Counter1 = Counter(split_it)\n",
    "\n",
    "    # most_common() produces k frequently encountered\n",
    "    # input values and their respective counts.\n",
    "    most_occur_r = Counter1.most_common(10)\n",
    "\n",
    "    return most_occur_r"
   ]
  },
  {
   "cell_type": "code",
   "execution_count": 25,
   "metadata": {},
   "outputs": [],
   "source": [
    "freq_words_dem = count_freq_words(result_dem)"
   ]
  },
  {
   "cell_type": "code",
   "execution_count": 26,
   "metadata": {},
   "outputs": [],
   "source": [
    "freq_words_rep = count_freq_words(result_rep)"
   ]
  },
  {
   "cell_type": "code",
   "execution_count": 27,
   "metadata": {},
   "outputs": [
    {
     "data": {
      "image/png": "[encoded data removed]",
      "text/plain": [
       "<Figure size 1296x360 with 1 Axes>"
      ]
     },
     "metadata": {
      "needs_background": "light"
     },
     "output_type": "display_data"
    }
   ],
   "source": [
    "#DEM most frequent words \n",
    "height = []\n",
    "bars = []\n",
    "for i in range(len(freq_words_dem)):\n",
    "    height.append(freq_words_dem[i][1])\n",
    "    bars.append(freq_words_dem[i][0])\n",
    "    \n",
    "x_pos = np.arange(len(bars))\n",
    "\n",
    "# Create bars with different colors\n",
    "f, ax = plt.subplots(figsize=(18,5))\n",
    "\n",
    "plt.bar(x_pos, height)\n",
    "\n",
    "# Create names on the x-axis\n",
    "plt.xticks(x_pos, bars)\n",
    "\n",
    "plt.title('Most Frequent Words Used in Democrat Tweets')\n",
    "plt.xlabel('Word')\n",
    "plt.ylabel('Number of times used')  \n",
    "\n",
    "for i in range(len(bars)):\n",
    "    plt.text(i,height[i],height[i])   \n",
    "\n",
    "# Show graph\n",
    "plt.show()"
   ]
  },
  {
   "cell_type": "code",
   "execution_count": 28,
   "metadata": {},
   "outputs": [
    {
     "data": {
      "image/png": "[encoded data removed]",
      "text/plain": [
       "<Figure size 1296x360 with 1 Axes>"
      ]
     },
     "metadata": {
      "needs_background": "light"
     },
     "output_type": "display_data"
    }
   ],
   "source": [
    "#REP most frequent words \n",
    "height = []\n",
    "bars = []\n",
    "for i in range(len(freq_words_rep)):\n",
    "    height.append(freq_words_rep[i][1])\n",
    "    bars.append(freq_words_rep[i][0])\n",
    "    \n",
    "x_pos = np.arange(len(bars))\n",
    "\n",
    "# Create bars with different colors\n",
    "f, ax = plt.subplots(figsize=(18,5))\n",
    "\n",
    "plt.bar(x_pos, height, color='red')\n",
    "\n",
    "# Create names on the x-axis\n",
    "plt.xticks(x_pos, bars)\n",
    "\n",
    "plt.title('Most Frequent Words Used in Republican Tweets')\n",
    "plt.xlabel('Word')\n",
    "plt.ylabel('Number of times used')  \n",
    "\n",
    "for i in range(len(bars)):\n",
    "    plt.text(i,height[i],height[i])   \n",
    "\n",
    "# Show graph\n",
    "plt.show()"
   ]
  },
  {
   "cell_type": "code",
   "execution_count": null,
   "metadata": {},
   "outputs": [],
   "source": []
  },
  {
   "cell_type": "code",
   "execution_count": null,
   "metadata": {},
   "outputs": [],
   "source": []
  }
 ],
 "metadata": {
  "kernelspec": {
   "display_name": "Python 3",
   "language": "python",
   "name": "python3"
  },
  "language_info": {
   "codemirror_mode": {
    "name": "ipython",
    "version": 3
   },
   "file_extension": ".py",
   "mimetype": "text/x-python",
   "name": "python",
   "nbconvert_exporter": "python",
   "pygments_lexer": "ipython3",
   "version": "3.7.4"
  }
 },
 "nbformat": 4,
 "nbformat_minor": 2
}
