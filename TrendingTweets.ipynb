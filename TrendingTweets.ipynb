{
 "cells": [
  {
   "cell_type": "code",
   "execution_count": 5,
   "metadata": {},
   "outputs": [],
   "source": [
    "#importing all dependencies\n",
    "import numpy as np\n",
    "import tweepy\n",
    "import requests\n",
    "import base64"
   ]
  },
  {
   "cell_type": "code",
   "execution_count": 8,
   "metadata": {},
   "outputs": [],
   "source": [
    "#Define your keys from the developer portal\n",
    "consumer_key = ''\n",
    "consumer_secret_key = ''"
   ]
  },
  {
   "cell_type": "code",
   "execution_count": 9,
   "metadata": {},
   "outputs": [],
   "source": [
    "#Reformat the keys and encode them\n",
    "key_secret = '{}:{}'.format(consumer_key, consumer_secret_key).encode('ascii')\n",
    "#Transform from bytes to bytes that can be printed\n",
    "b64_encoded_key = base64.b64encode(key_secret)\n",
    "#Transform from bytes back into Unicode\n",
    "b64_encoded_key = b64_encoded_key.decode('ascii')\n"
   ]
  },
  {
   "cell_type": "code",
   "execution_count": 10,
   "metadata": {},
   "outputs": [
    {
     "name": "stdout",
     "output_type": "stream",
     "text": [
      "200\n"
     ]
    }
   ],
   "source": [
    "base_url = 'https://api.twitter.com/'\n",
    "auth_url = '{}oauth2/token'.format(base_url)\n",
    "auth_headers = {\n",
    "    'Authorization': 'Basic {}'.format(b64_encoded_key),\n",
    "    'Content-Type': 'application/x-www-form-urlencoded;charset=UTF-8'\n",
    "}\n",
    "auth_data = {\n",
    "    'grant_type': 'client_credentials'\n",
    "}\n",
    "auth_resp = requests.post(auth_url, headers=auth_headers, data=auth_data)\n",
    "print(auth_resp.status_code)\n",
    "access_token = auth_resp.json()['access_token']\n"
   ]
  },
  {
   "cell_type": "code",
   "execution_count": 12,
   "metadata": {},
   "outputs": [],
   "source": [
    "trend_headers = {\n",
    "    'Authorization': 'Bearer {}'.format(access_token)    \n",
    "}\n",
    "\n",
    "trend_params = {\n",
    "    'id': 23424977, #united states WOEID \n",
    "}\n",
    "\n",
    "trend_url = 'https://api.twitter.com/1.1/trends/place.json'  \n",
    "trend_resp = requests.get(trend_url, headers=trend_headers, params=trend_params)\n"
   ]
  },
  {
   "cell_type": "code",
   "execution_count": 13,
   "metadata": {},
   "outputs": [
    {
     "name": "stdout",
     "output_type": "stream",
     "text": [
      "<Response [200]>\n"
     ]
    }
   ],
   "source": [
    "print(trend_resp)"
   ]
  },
  {
   "cell_type": "code",
   "execution_count": 14,
   "metadata": {},
   "outputs": [
    {
     "name": "stdout",
     "output_type": "stream",
     "text": [
      "[{'trends': [{'name': 'Joe Budden', 'url': 'http://twitter.com/search?q=%22Joe+Budden%22', 'promoted_content': None, 'query': '%22Joe+Budden%22', 'tweet_volume': None}, {'name': 'Dave Portnoy', 'url': 'http://twitter.com/search?q=%22Dave+Portnoy%22', 'promoted_content': None, 'query': '%22Dave+Portnoy%22', 'tweet_volume': 17895}, {'name': 'Maserati', 'url': 'http://twitter.com/search?q=Maserati', 'promoted_content': None, 'query': 'Maserati', 'tweet_volume': 11346}, {'name': 'Anna Faris', 'url': 'http://twitter.com/search?q=%22Anna+Faris%22', 'promoted_content': None, 'query': '%22Anna+Faris%22', 'tweet_volume': None}, {'name': 'OSHA', 'url': 'http://twitter.com/search?q=OSHA', 'promoted_content': None, 'query': 'OSHA', 'tweet_volume': 78611}, {'name': 'Sarver', 'url': 'http://twitter.com/search?q=Sarver', 'promoted_content': None, 'query': 'Sarver', 'tweet_volume': 29276}, {'name': 'Rand Paul', 'url': 'http://twitter.com/search?q=%22Rand+Paul%22', 'promoted_content': None, 'query': '%22Rand+Paul%22', 'tweet_volume': 30575}, {'name': 'Barstool', 'url': 'http://twitter.com/search?q=Barstool', 'promoted_content': None, 'query': 'Barstool', 'tweet_volume': 18524}, {'name': 'Elden Ring', 'url': 'http://twitter.com/search?q=%22Elden+Ring%22', 'promoted_content': None, 'query': '%22Elden+Ring%22', 'tweet_volume': 63337}, {'name': '#DoNotComply', 'url': 'http://twitter.com/search?q=%23DoNotComply', 'promoted_content': None, 'query': '%23DoNotComply', 'tweet_volume': 22546}, {'name': '#Diwali', 'url': 'http://twitter.com/search?q=%23Diwali', 'promoted_content': None, 'query': '%23Diwali', 'tweet_volume': 480369}, {'name': 'Suns', 'url': 'http://twitter.com/search?q=Suns', 'promoted_content': None, 'query': 'Suns', 'tweet_volume': 26309}, {'name': 'Jenna Ryan', 'url': 'http://twitter.com/search?q=%22Jenna+Ryan%22', 'promoted_content': None, 'query': '%22Jenna+Ryan%22', 'tweet_volume': 27823}, {'name': 'dier', 'url': 'http://twitter.com/search?q=dier', 'promoted_content': None, 'query': 'dier', 'tweet_volume': None}, {'name': '#FReadom', 'url': 'http://twitter.com/search?q=%23FReadom', 'promoted_content': None, 'query': '%23FReadom', 'tweet_volume': None}, {'name': '#COYS', 'url': 'http://twitter.com/search?q=%23COYS', 'promoted_content': None, 'query': '%23COYS', 'tweet_volume': None}, {'name': 'Milk', 'url': 'http://twitter.com/search?q=Milk', 'promoted_content': None, 'query': 'Milk', 'tweet_volume': 236393}, {'name': 'Summer Walker', 'url': 'http://twitter.com/search?q=%22Summer+Walker%22', 'promoted_content': None, 'query': '%22Summer+Walker%22', 'tweet_volume': 51261}, {'name': 'Steele', 'url': 'http://twitter.com/search?q=Steele', 'promoted_content': None, 'query': 'Steele', 'tweet_volume': 86028}, {'name': 'Durham', 'url': 'http://twitter.com/search?q=Durham', 'promoted_content': None, 'query': 'Durham', 'tweet_volume': 53260}, {'name': '#UFC268', 'url': 'http://twitter.com/search?q=%23UFC268', 'promoted_content': None, 'query': '%23UFC268', 'tweet_volume': 12610}, {'name': 'Persona 5', 'url': 'http://twitter.com/search?q=%22Persona+5%22', 'promoted_content': None, 'query': '%22Persona+5%22', 'tweet_volume': 13072}, {'name': 'Turkey', 'url': 'http://twitter.com/search?q=Turkey', 'promoted_content': None, 'query': 'Turkey', 'tweet_volume': 50809}, {'name': 'Jay Williams', 'url': 'http://twitter.com/search?q=%22Jay+Williams%22', 'promoted_content': None, 'query': '%22Jay+Williams%22', 'tweet_volume': None}, {'name': 'Vanguard', 'url': 'http://twitter.com/search?q=Vanguard', 'promoted_content': None, 'query': 'Vanguard', 'tweet_volume': 90652}, {'name': 'Donald Sterling', 'url': 'http://twitter.com/search?q=%22Donald+Sterling%22', 'promoted_content': None, 'query': '%22Donald+Sterling%22', 'tweet_volume': None}, {'name': 'Davies', 'url': 'http://twitter.com/search?q=Davies', 'promoted_content': None, 'query': 'Davies', 'tweet_volume': None}, {'name': 'Danchenko', 'url': 'http://twitter.com/search?q=Danchenko', 'promoted_content': None, 'query': 'Danchenko', 'tweet_volume': 65364}, {'name': 'Only 60', 'url': 'http://twitter.com/search?q=%22Only+60%22', 'promoted_content': None, 'query': '%22Only+60%22', 'tweet_volume': 11838}, {'name': 'James Carville', 'url': 'http://twitter.com/search?q=%22James+Carville%22', 'promoted_content': None, 'query': '%22James+Carville%22', 'tweet_volume': None}, {'name': 'Vitesse', 'url': 'http://twitter.com/search?q=Vitesse', 'promoted_content': None, 'query': 'Vitesse', 'tweet_volume': 17141}, {'name': 'Aditi', 'url': 'http://twitter.com/search?q=Aditi', 'promoted_content': None, 'query': 'Aditi', 'tweet_volume': None}, {'name': 'Trump Organization', 'url': 'http://twitter.com/search?q=%22Trump+Organization%22', 'promoted_content': None, 'query': '%22Trump+Organization%22', 'tweet_volume': 17022}, {'name': 'Jacob Blake', 'url': 'http://twitter.com/search?q=%22Jacob+Blake%22', 'promoted_content': None, 'query': '%22Jacob+Blake%22', 'tweet_volume': None}, {'name': 'Colby', 'url': 'http://twitter.com/search?q=Colby', 'promoted_content': None, 'query': 'Colby', 'tweet_volume': None}, {'name': 'Eddie Howe', 'url': 'http://twitter.com/search?q=%22Eddie+Howe%22', 'promoted_content': None, 'query': '%22Eddie+Howe%22', 'tweet_volume': 11083}, {'name': 'READY FOR WAR', 'url': 'http://twitter.com/search?q=%22READY+FOR+WAR%22', 'promoted_content': None, 'query': '%22READY+FOR+WAR%22', 'tweet_volume': None}, {'name': 'Father Time', 'url': 'http://twitter.com/search?q=%22Father+Time%22', 'promoted_content': None, 'query': '%22Father+Time%22', 'tweet_volume': None}, {'name': 'Business Insider', 'url': 'http://twitter.com/search?q=%22Business+Insider%22', 'promoted_content': None, 'query': '%22Business+Insider%22', 'tweet_volume': None}, {'name': 'Rosenbaum', 'url': 'http://twitter.com/search?q=Rosenbaum', 'promoted_content': None, 'query': 'Rosenbaum', 'tweet_volume': 16491}, {'name': 'Chord Overstreet', 'url': 'http://twitter.com/search?q=%22Chord+Overstreet%22', 'promoted_content': None, 'query': '%22Chord+Overstreet%22', 'tweet_volume': None}, {'name': 'Crisp Rat', 'url': 'http://twitter.com/search?q=%22Crisp+Rat%22', 'promoted_content': None, 'query': '%22Crisp+Rat%22', 'tweet_volume': None}, {'name': 'Odric', 'url': 'http://twitter.com/search?q=Odric', 'promoted_content': None, 'query': 'Odric', 'tweet_volume': None}, {'name': 'sorn', 'url': 'http://twitter.com/search?q=sorn', 'promoted_content': None, 'query': 'sorn', 'tweet_volume': 90690}, {'name': 'Comey', 'url': 'http://twitter.com/search?q=Comey', 'promoted_content': None, 'query': 'Comey', 'tweet_volume': None}, {'name': 'Robert Santos', 'url': 'http://twitter.com/search?q=%22Robert+Santos%22', 'promoted_content': None, 'query': '%22Robert+Santos%22', 'tweet_volume': None}, {'name': 'RIP Piney', 'url': 'http://twitter.com/search?q=%22RIP+Piney%22', 'promoted_content': None, 'query': '%22RIP+Piney%22', 'tweet_volume': None}, {'name': 'PTON', 'url': 'http://twitter.com/search?q=PTON', 'promoted_content': None, 'query': 'PTON', 'tweet_volume': None}, {'name': 'SMTV', 'url': 'http://twitter.com/search?q=SMTV', 'promoted_content': None, 'query': 'SMTV', 'tweet_volume': None}, {'name': 'Peter Thiel', 'url': 'http://twitter.com/search?q=%22Peter+Thiel%22', 'promoted_content': None, 'query': '%22Peter+Thiel%22', 'tweet_volume': None}], 'as_of': '2021-11-04T21:43:18Z', 'created_at': '2021-11-02T22:52:33Z', 'locations': [{'name': 'United States', 'woeid': 23424977}]}]\n"
     ]
    }
   ],
   "source": [
    "tweet_data = trend_resp.json()\n",
    "print(tweet_data)"
   ]
  },
  {
   "cell_type": "code",
   "execution_count": 15,
   "metadata": {
    "scrolled": true
   },
   "outputs": [
    {
     "name": "stdout",
     "output_type": "stream",
     "text": [
      "{'name': 'Joe Budden', 'url': 'http://twitter.com/search?q=%22Joe+Budden%22', 'promoted_content': None, 'query': '%22Joe+Budden%22', 'tweet_volume': None}\n",
      "{'name': 'Dave Portnoy', 'url': 'http://twitter.com/search?q=%22Dave+Portnoy%22', 'promoted_content': None, 'query': '%22Dave+Portnoy%22', 'tweet_volume': 17895}\n",
      "{'name': 'Maserati', 'url': 'http://twitter.com/search?q=Maserati', 'promoted_content': None, 'query': 'Maserati', 'tweet_volume': 11346}\n",
      "{'name': 'Anna Faris', 'url': 'http://twitter.com/search?q=%22Anna+Faris%22', 'promoted_content': None, 'query': '%22Anna+Faris%22', 'tweet_volume': None}\n",
      "{'name': 'OSHA', 'url': 'http://twitter.com/search?q=OSHA', 'promoted_content': None, 'query': 'OSHA', 'tweet_volume': 78611}\n",
      "{'name': 'Sarver', 'url': 'http://twitter.com/search?q=Sarver', 'promoted_content': None, 'query': 'Sarver', 'tweet_volume': 29276}\n",
      "{'name': 'Rand Paul', 'url': 'http://twitter.com/search?q=%22Rand+Paul%22', 'promoted_content': None, 'query': '%22Rand+Paul%22', 'tweet_volume': 30575}\n",
      "{'name': 'Barstool', 'url': 'http://twitter.com/search?q=Barstool', 'promoted_content': None, 'query': 'Barstool', 'tweet_volume': 18524}\n",
      "{'name': 'Elden Ring', 'url': 'http://twitter.com/search?q=%22Elden+Ring%22', 'promoted_content': None, 'query': '%22Elden+Ring%22', 'tweet_volume': 63337}\n",
      "{'name': '#DoNotComply', 'url': 'http://twitter.com/search?q=%23DoNotComply', 'promoted_content': None, 'query': '%23DoNotComply', 'tweet_volume': 22546}\n"
     ]
    }
   ],
   "source": [
    "for i in range(0,10):\n",
    "    print(tweet_data[0]['trends'][i])"
   ]
  }
 ],
 "metadata": {
  "kernelspec": {
   "display_name": "Python 3",
   "language": "python",
   "name": "python3"
  },
  "language_info": {
   "codemirror_mode": {
    "name": "ipython",
    "version": 3
   },
   "file_extension": ".py",
   "mimetype": "text/x-python",
   "name": "python",
   "nbconvert_exporter": "python",
   "pygments_lexer": "ipython3",
   "version": "3.7.4"
  }
 },
 "nbformat": 4,
 "nbformat_minor": 2
}
