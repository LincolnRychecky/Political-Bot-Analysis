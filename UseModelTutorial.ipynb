{
 "cells": [
  {
   "cell_type": "code",
   "execution_count": 3,
   "metadata": {},
   "outputs": [],
   "source": [
    "import pandas as pd\n",
    "from emoji import UNICODE_EMOJI\n",
    "import emoji\n",
    "import regex as re\n",
    "import tweepy\n",
    "from tqdm import tqdm\n",
    "import tensorflow_hub as hub\n",
    "import tensorflow as tf\n",
    "import lightgbm as lgbm\n",
    "import numpy as np\n",
    "from sklearn.metrics import confusion_matrix, accuracy_score, precision_score, recall_score\n",
    "from sklearn.model_selection import train_test_split\n",
    "import pickle\n",
    "# loading the tensorflow universal sentence encoder 4 model\n"
   ]
  },
  {
   "cell_type": "code",
   "execution_count": 6,
   "metadata": {},
   "outputs": [],
   "source": [
    "embed = hub.load(\"https://tfhub.dev/google/universal-sentence-encoder/4\")\n"
   ]
  },
  {
   "cell_type": "code",
   "execution_count": 7,
   "metadata": {},
   "outputs": [],
   "source": [
    "# setup API auhorizaion\n",
    "\n",
    "# assign the values accordingly\n",
    "consumer_key = \"jfpVhd1zOxM6uqR1GjcQzEsns\"\n",
    "consumer_secret = \"c4PdCb2fvIbFRHlgQJlT6k0cPlRUtl1E0akP5dSvmKz1NFUHmr\"\n",
    "access_token = \"1250984376671670272-3wFUr43oEV9NUiPtv8f7ygVT74Rw3s\"\n",
    "access_token_secret = \"2OyDgcbZWYbVwgvFJttSIEroJzmOOTwq9hGMGmVeRs9mg\"\n",
    "\n",
    "# authorization of consumer key and consumer secret\n",
    "auth = tweepy.OAuthHandler(consumer_key, consumer_secret)\n",
    "  \n",
    "# set access to user's access key and access secret \n",
    "auth.set_access_token(access_token, access_token_secret)\n",
    "\n",
    "api = tweepy.API(auth)"
   ]
  },
  {
   "cell_type": "code",
   "execution_count": 21,
   "metadata": {},
   "outputs": [],
   "source": [
    "def clean(text):\n",
    "    text = re.sub(r\"'s\", \"\", text) # remove possesive 's\n",
    "    text = re.sub(r\"http\\S+\", \" \", text) # remove urls\n",
    "    text = re.sub(r\"RT \", \" \", text) # remove rt\n",
    "    text = re.sub(r\"'[s]\", \"\", text) # remove '\n",
    "    text = re.sub(r\"[^a-zA-Z\\d\\s]\", \" \", text) # remove special characters\n",
    "    text = re.sub(r\"[0-9]\", \" \", text) # remove number\n",
    "    text = re.sub(r'\\t', ' ', text) # remove tabs\n",
    "    text = re.sub(r'\\n', ' ', text) # remove line jump\n",
    "    text = re.sub(r\"\\s+\", \" \", text) # remove extra white space\n",
    "    text = text.strip()\n",
    "    text = text.lower()\n",
    "    return text"
   ]
  },
  {
   "cell_type": "code",
   "execution_count": 24,
   "metadata": {},
   "outputs": [],
   "source": [
    "# count emojis in tweet text\n",
    "def split_count(text):\n",
    "    total_emoji = []\n",
    "    data = re.findall(r'\\X',text)\n",
    "    flag = False\n",
    "    for word in data:\n",
    "        if word in emoji.UNICODE_EMOJI['en']:  \n",
    "            total_emoji += [word] # total_emoji is a list of all emojis\n",
    "\n",
    "    # remove from the given text the emojis\n",
    "    for current in total_emoji:\n",
    "        text = text.replace(current, '') \n",
    "\n",
    "    # return Counter(text.split() + total_emoji)\n",
    "    return len(total_emoji)"
   ]
  },
  {
   "cell_type": "code",
   "execution_count": 25,
   "metadata": {},
   "outputs": [],
   "source": [
    "# counts urls in tweet text\n",
    "def countUrls(text):\n",
    "    return len(re.findall(r\"http\\S+\", text))"
   ]
  },
  {
   "cell_type": "code",
   "execution_count": 26,
   "metadata": {},
   "outputs": [],
   "source": [
    "# counts hashtags in tweet text\n",
    "def countHashtags(text):\n",
    "    return len(re.findall(r\"#[a-zA-Z]+\", text))"
   ]
  },
  {
   "cell_type": "code",
   "execution_count": 27,
   "metadata": {},
   "outputs": [],
   "source": [
    "# get list or count of followers for a specific user\n",
    "def getFollowers(user, list=False):\n",
    "    if list:\n",
    "        return user.followers\n",
    "    else:\n",
    "        return user.followers_count"
   ]
  },
  {
   "cell_type": "code",
   "execution_count": 28,
   "metadata": {},
   "outputs": [],
   "source": [
    "# get list or count of statuses for a specific user\n",
    "def getStatuses(user, list=False):\n",
    "    if list:\n",
    "        return user.statuses\n",
    "    else:\n",
    "        return user.statuses_count"
   ]
  },
  {
   "cell_type": "code",
   "execution_count": 29,
   "metadata": {},
   "outputs": [],
   "source": [
    "# get list or count of friends (people followed) for a specific user\n",
    "def getFriends(user, list=False):\n",
    "    if list:\n",
    "        return user.friends\n",
    "    else:\n",
    "        return user.friends_count"
   ]
  },
  {
   "cell_type": "code",
   "execution_count": 30,
   "metadata": {},
   "outputs": [],
   "source": [
    "# get list or count of friends (people followed) for a specific user\n",
    "def getVerified(user):\n",
    "    return user.verified"
   ]
  },
  {
   "cell_type": "code",
   "execution_count": 43,
   "metadata": {},
   "outputs": [],
   "source": [
    "def prepDataForModel(predictionData):\n",
    "    predictionData = predictionData[['emojiCount', 'followers', 'following', 'hashtagCount', 'urlCount', 'tweetCount', 'verified']]\n",
    "    return predictionData"
   ]
  },
  {
   "cell_type": "code",
   "execution_count": 44,
   "metadata": {},
   "outputs": [],
   "source": [
    "# this is how you construct a Prediction Set. Provide a list of user ids and the function will build your dataset\n",
    "# save directory is where you would like your dataset to be saved to. \n",
    "# ex: r'/Users/lincolnrychecky/desktop/trainingDataBots.csv' saves the file as a csv named trainingDataBots.csv to my desktop\n",
    "\n",
    "def build_prediction_set(userIds, saveDirectory):\n",
    "    # construct the training set by calling predefined functions\n",
    "    # feature lists\n",
    "    ids = []\n",
    "    human = []\n",
    "    rawText = []\n",
    "    text = []\n",
    "    emojis = []\n",
    "    followers = []\n",
    "    following = []\n",
    "    hashtags = []\n",
    "    urls = []\n",
    "    statuses = []\n",
    "    verified = []\n",
    "    \n",
    "    for id in tqdm(userIds):\n",
    "        # Put in a try-except block in case a forbidden user id is in there\n",
    "        try:\n",
    "            print(id)\n",
    "            user = api.get_user(user_id=id)\n",
    "\n",
    "            recentFiveTweets = api.user_timeline(user_id=id, \n",
    "                                    # 200 is the maximum allowed count\n",
    "                                    count=11,\n",
    "                                    include_rts = True,\n",
    "                                    # Necessary to keep full_text \n",
    "                                    # otherwise only the first 140 words are extracted\n",
    "                                    tweet_mode = 'extended'\n",
    "                                    )\n",
    "            fullText = \"\"\n",
    "            for info in recentFiveTweets:\n",
    "                fullText = fullText + info.full_text + \" \"\n",
    "            cleanedText = clean(fullText)\n",
    "            \n",
    "            ids.append(id)\n",
    "            emojis.append(split_count(fullText))\n",
    "            followers.append(getFollowers(user))\n",
    "            following.append(getFriends(user))\n",
    "            hashtags.append(countHashtags(fullText))\n",
    "            urls.append(countUrls(fullText))\n",
    "            statuses.append(getStatuses(user))\n",
    "            verified.append(getVerified(user))\n",
    "            text.append(cleanedText)\n",
    "            rawText.append(fullText)\n",
    "            human.append(0)\n",
    "        except:\n",
    "            pass\n",
    "        \n",
    "    # assemble data dictionary\n",
    "    dataDict = {\n",
    "        \"id\": ids,\n",
    "        \"rawText\": rawText,\n",
    "        \"cleanText\": text,\n",
    "        \"emojiCount\": emojis,\n",
    "        \"followers\": followers,\n",
    "        \"following\": following,\n",
    "        \"hashtagCount\": hashtags,\n",
    "        \"urlCount\": urls,\n",
    "        \"tweetCount\": statuses,\n",
    "        \"verified\": verified,\n",
    "        \"human\": human\n",
    "    }\n",
    "    \n",
    "    # turn dict into dataframe for export\n",
    "    trainDataBot = pd.DataFrame.from_dict(dataDict)\n",
    "    trainDataBot.to_csv(saveDirectory, index = False)\n",
    "    return trainDataBot"
   ]
  },
  {
   "cell_type": "code",
   "execution_count": 45,
   "metadata": {},
   "outputs": [
    {
     "name": "stderr",
     "output_type": "stream",
     "text": [
      "\r",
      "  0%|          | 0/1 [00:00<?, ?it/s]"
     ]
    },
    {
     "name": "stdout",
     "output_type": "stream",
     "text": [
      "1250474930178670593\n"
     ]
    },
    {
     "name": "stderr",
     "output_type": "stream",
     "text": [
      "100%|██████████| 1/1 [00:00<00:00,  2.53it/s]\n"
     ]
    }
   ],
   "source": [
    "x = build_prediction_set([1250474930178670593], r'/Users/raeganrychecky/desktop/predictiondata.csv' )"
   ]
  },
  {
   "cell_type": "code",
   "execution_count": 46,
   "metadata": {},
   "outputs": [],
   "source": [
    "mungeData = prepDataForModel(x)\n"
   ]
  },
  {
   "cell_type": "code",
   "execution_count": 51,
   "metadata": {},
   "outputs": [
    {
     "data": {
      "text/html": [
       "<div>\n",
       "<style scoped>\n",
       "    .dataframe tbody tr th:only-of-type {\n",
       "        vertical-align: middle;\n",
       "    }\n",
       "\n",
       "    .dataframe tbody tr th {\n",
       "        vertical-align: top;\n",
       "    }\n",
       "\n",
       "    .dataframe thead th {\n",
       "        text-align: right;\n",
       "    }\n",
       "</style>\n",
       "<table border=\"1\" class=\"dataframe\">\n",
       "  <thead>\n",
       "    <tr style=\"text-align: right;\">\n",
       "      <th></th>\n",
       "      <th>emojiCount</th>\n",
       "      <th>followers</th>\n",
       "      <th>following</th>\n",
       "      <th>hashtagCount</th>\n",
       "      <th>urlCount</th>\n",
       "      <th>tweetCount</th>\n",
       "      <th>verified</th>\n",
       "    </tr>\n",
       "  </thead>\n",
       "  <tbody>\n",
       "    <tr>\n",
       "      <th>0</th>\n",
       "      <td>0</td>\n",
       "      <td>138</td>\n",
       "      <td>75</td>\n",
       "      <td>0</td>\n",
       "      <td>6</td>\n",
       "      <td>740</td>\n",
       "      <td>False</td>\n",
       "    </tr>\n",
       "  </tbody>\n",
       "</table>\n",
       "</div>"
      ],
      "text/plain": [
       "   emojiCount  followers  following  hashtagCount  urlCount  tweetCount  \\\n",
       "0           0        138         75             0         6         740   \n",
       "\n",
       "   verified  \n",
       "0     False  "
      ]
     },
     "execution_count": 51,
     "metadata": {},
     "output_type": "execute_result"
    }
   ],
   "source": [
    "mungeData"
   ]
  },
  {
   "cell_type": "code",
   "execution_count": 52,
   "metadata": {},
   "outputs": [],
   "source": [
    "scoringModel = pickle.load(open(r'/Users/raeganrychecky/desktop/CSCI5502/Political-Bot-Analysis/twitterBotModel/standard_model.sav', 'rb'))\n"
   ]
  },
  {
   "cell_type": "code",
   "execution_count": 53,
   "metadata": {},
   "outputs": [],
   "source": [
    "predictions = scoringModel.predict(mungeData)"
   ]
  },
  {
   "cell_type": "code",
   "execution_count": 54,
   "metadata": {},
   "outputs": [
    {
     "data": {
      "text/plain": [
       "array([0.03112414])"
      ]
     },
     "execution_count": 54,
     "metadata": {},
     "output_type": "execute_result"
    }
   ],
   "source": [
    "predictions"
   ]
  },
  {
   "cell_type": "code",
   "execution_count": null,
   "metadata": {},
   "outputs": [],
   "source": []
  }
 ],
 "metadata": {
  "kernelspec": {
   "display_name": "Python 3",
   "language": "python",
   "name": "python3"
  },
  "language_info": {
   "codemirror_mode": {
    "name": "ipython",
    "version": 3
   },
   "file_extension": ".py",
   "mimetype": "text/x-python",
   "name": "python",
   "nbconvert_exporter": "python",
   "pygments_lexer": "ipython3",
   "version": "3.7.4"
  }
 },
 "nbformat": 4,
 "nbformat_minor": 5
}
