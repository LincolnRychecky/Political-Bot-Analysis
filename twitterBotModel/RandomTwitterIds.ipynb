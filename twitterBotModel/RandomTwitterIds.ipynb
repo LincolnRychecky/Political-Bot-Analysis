{
 "cells": [
  {
   "cell_type": "code",
   "execution_count": 1,
   "metadata": {},
   "outputs": [],
   "source": [
    "import numpy as np\n",
    "import tweepy\n",
    "import requests\n",
    "import base64\n",
    "import twitter\n",
    "import csv"
   ]
  },
  {
   "cell_type": "code",
   "execution_count": 2,
   "metadata": {},
   "outputs": [
    {
     "name": "stdout",
     "output_type": "stream",
     "text": [
      "{\"created_at\": \"Fri Apr 17 03:08:23 +0000 2020\", \"default_profile\": true, \"default_profile_image\": true, \"followers_count\": 2, \"friends_count\": 2, \"id\": 1250984376671670272, \"id_str\": \"1250984376671670272\", \"name\": \"Raegan Rychecky\", \"profile_background_color\": \"F5F8FA\", \"profile_image_url\": \"http://abs.twimg.com/sticky/default_profile_images/default_profile_normal.png\", \"profile_image_url_https\": \"https://abs.twimg.com/sticky/default_profile_images/default_profile_normal.png\", \"profile_link_color\": \"1DA1F2\", \"profile_sidebar_border_color\": \"C0DEED\", \"profile_sidebar_fill_color\": \"DDEEF6\", \"profile_text_color\": \"333333\", \"profile_use_background_image\": true, \"screen_name\": \"RaeganRychecky\", \"withheld_in_countries\": []}\n",
      "[1433069321069211648, 1207428788373639169, 1362810246952058881, 1437179944744980483, 1313670580344938498, 1210035493, None, 1190024784991719427, 1439671479784902658, 775969771, 3226538094, 105182964]\n"
     ]
    }
   ],
   "source": [
    "api=twitter.Api(consumer_key='', consumer_secret='', access_token_key='', access_token_secret='')\n",
    "print (api.VerifyCredentials() )\n",
    "\n",
    "lis = api.GetStreamSample()\n",
    "cnt = 0\n",
    "userIDs = []\n",
    "\n",
    "for tweet in lis:\n",
    "\n",
    "    if cnt == 100:\n",
    "        break;\n",
    "\n",
    "    cnt += 1\n",
    "    if tweet != None:\n",
    "        userIDs.append(tweet.get('delete', {}).get('status', {}).get('user_id'))\n",
    "\n",
    "\n",
    "userIDs = list(set(userIDs))    # To remove any duplicated user IDs\n",
    "print(userIDs)"
   ]
  },
  {
   "cell_type": "code",
   "execution_count": null,
   "metadata": {},
   "outputs": [],
   "source": []
  }
 ],
 "metadata": {
  "kernelspec": {
   "display_name": "Python 3",
   "language": "python",
   "name": "python3"
  },
  "language_info": {
   "codemirror_mode": {
    "name": "ipython",
    "version": 3
   },
   "file_extension": ".py",
   "mimetype": "text/x-python",
   "name": "python",
   "nbconvert_exporter": "python",
   "pygments_lexer": "ipython3",
   "version": "3.7.4"
  }
 },
 "nbformat": 4,
 "nbformat_minor": 2
}
