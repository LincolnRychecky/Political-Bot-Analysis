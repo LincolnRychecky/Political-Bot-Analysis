{
 "cells": [
  {
   "cell_type": "code",
   "execution_count": 18,
   "metadata": {},
   "outputs": [],
   "source": [
    "import numpy as np\n",
    "import tweepy\n",
    "import requests\n",
    "import base64\n",
    "import twitter\n",
    "import csv"
   ]
  },
  {
   "cell_type": "code",
   "execution_count": 19,
   "metadata": {},
   "outputs": [
    {
     "name": "stdout",
     "output_type": "stream",
     "text": [
      "{\"created_at\": \"Fri Apr 17 03:08:23 +0000 2020\", \"default_profile\": true, \"default_profile_image\": true, \"followers_count\": 2, \"friends_count\": 2, \"id\": 1250984376671670272, \"id_str\": \"1250984376671670272\", \"name\": \"Raegan Rychecky\", \"profile_background_color\": \"F5F8FA\", \"profile_image_url\": \"http://abs.twimg.com/sticky/default_profile_images/default_profile_normal.png\", \"profile_image_url_https\": \"https://abs.twimg.com/sticky/default_profile_images/default_profile_normal.png\", \"profile_link_color\": \"1DA1F2\", \"profile_sidebar_border_color\": \"C0DEED\", \"profile_sidebar_fill_color\": \"DDEEF6\", \"profile_text_color\": \"333333\", \"profile_use_background_image\": true, \"screen_name\": \"RaeganRychecky\", \"withheld_in_countries\": []}\n",
      "[851568329252892672, 865603010000322561, 905762400216899586, 1292287392255270914, 1435804181294501889, 1413479961986355202, 1319891942839259136, 1070644621489795072, 721371470895517699, 1253739447285428225, 1383708330326040586, 1432302513642819589, 1453476088408125444, 1417982444184109061, 1456410636955660293, 1082220354628608006, 1358435114695409666, 2607823377, 1441016435568824337, 1107697114509950978, 3006926390, 394328122, 1378076228, 80182340, 447232073, 2543713880, 2906378874, 938812711890063360, 1340614138595135488, 1291661943132966912, 1327137075037147136, 1150848112283570176, 1422457780154208257, 1457179798430941184, 1442628861880012800, 1434467496350814208, 1153272928068407298, 997226312539557890, 1440596637907243010, 1008744720636481539, 1446034385904488454, 1422753784569139206, 2156962477, 2785245368, 556550844, 765282540, 629011696, 1278795353962078208, 803950080399024128, 946896329883525120, 1265577271164837888, 740513408131309568, 1156775113552846849, 1447932107091763201, 1379323057643298817, 893728520, 1438448885114888194, 1392497363084713986, 1148953547351810050, 1287145721750315010, 1173677943551213568, 1270507810917236736, 1202514851748184064, 1440851276347031552, 161432928, 1395297538685632512, 1143921879540854784, 2672463746, 1369789117928665088, 38900612, 988183066190508032, None, 1308410026227269632, 1317938788077760512, 1311677514780225536, 1099984292178931712, 1426626832749768706, 1226569829420871682, 75733908, 3473318294, 1442721662013632517, 81160620, 304219584, 158827969, 28918227, 3300688866]\n"
     ]
    }
   ],
   "source": [
    "api=twitter.Api(consumer_key='jfpVhd1zOxM6uqR1GjcQzEsns', consumer_secret='c4PdCb2fvIbFRHlgQJlT6k0cPlRUtl1E0akP5dSvmKz1NFUHmr', access_token_key='1250984376671670272-3wFUr43oEV9NUiPtv8f7ygVT74Rw3s', access_token_secret='2OyDgcbZWYbVwgvFJttSIEroJzmOOTwq9hGMGmVeRs9mg')\n",
    "print (api.VerifyCredentials() )\n",
    "\n",
    "lis = api.GetStreamSample()\n",
    "cnt = 0\n",
    "userIDs = []\n",
    "\n",
    "for tweet in lis:\n",
    "\n",
    "    if cnt == 1000:\n",
    "        break;\n",
    "\n",
    "    cnt += 1\n",
    "    if tweet != None:\n",
    "        userIDs.append(tweet.get('delete', {}).get('status', {}).get('user_id'))\n",
    "\n",
    "\n",
    "userIDs = list(set(userIDs))    # To remove any duplicated user IDs\n",
    "print(userIDs)"
   ]
  },
  {
   "cell_type": "code",
   "execution_count": null,
   "metadata": {},
   "outputs": [],
   "source": []
  }
 ],
 "metadata": {
  "kernelspec": {
   "display_name": "Python 3",
   "language": "python",
   "name": "python3"
  },
  "language_info": {
   "codemirror_mode": {
    "name": "ipython",
    "version": 3
   },
   "file_extension": ".py",
   "mimetype": "text/x-python",
   "name": "python",
   "nbconvert_exporter": "python",
   "pygments_lexer": "ipython3",
   "version": "3.7.4"
  }
 },
 "nbformat": 4,
 "nbformat_minor": 2
}
